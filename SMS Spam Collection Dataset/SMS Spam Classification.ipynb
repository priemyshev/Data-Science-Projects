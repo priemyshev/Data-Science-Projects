{
  "nbformat": 4,
  "nbformat_minor": 0,
  "metadata": {
    "colab": {
      "provenance": []
    },
    "kernelspec": {
      "name": "python3",
      "display_name": "Python 3"
    },
    "language_info": {
      "name": "python"
    }
  },
  "cells": [
    {
      "cell_type": "code",
      "execution_count": 19,
      "metadata": {
        "colab": {
          "base_uri": "https://localhost:8080/"
        },
        "id": "3ODpG8k1VfEW",
        "outputId": "42ef44b9-2993-4d32-d41c-e027539c7806"
      },
      "outputs": [
        {
          "output_type": "stream",
          "name": "stderr",
          "text": [
            "[nltk_data] Downloading package stopwords to /root/nltk_data...\n",
            "[nltk_data]   Package stopwords is already up-to-date!\n",
            "[nltk_data] Downloading package wordnet to /root/nltk_data...\n",
            "[nltk_data]   Package wordnet is already up-to-date!\n"
          ]
        },
        {
          "output_type": "stream",
          "name": "stdout",
          "text": [
            "\n",
            "Результаты с Bag of Words:\n",
            "Accuracy: 0.97847533632287\n",
            "F1-score: 0.9130434782608695\n",
            "ROC-AUC: 0.9199999999999999\n",
            "              precision    recall  f1-score   support\n",
            "\n",
            "           0       0.98      1.00      0.99       965\n",
            "           1       1.00      0.84      0.91       150\n",
            "\n",
            "    accuracy                           0.98      1115\n",
            "   macro avg       0.99      0.92      0.95      1115\n",
            "weighted avg       0.98      0.98      0.98      1115\n",
            "\n",
            "\n",
            "Результаты с TF-IDF:\n",
            "Accuracy: 0.9506726457399103\n",
            "F1-score: 0.782608695652174\n",
            "ROC-AUC: 0.8279274611398965\n",
            "              precision    recall  f1-score   support\n",
            "\n",
            "           0       0.95      1.00      0.97       965\n",
            "           1       0.96      0.66      0.78       150\n",
            "\n",
            "    accuracy                           0.95      1115\n",
            "   macro avg       0.96      0.83      0.88      1115\n",
            "weighted avg       0.95      0.95      0.95      1115\n",
            "\n"
          ]
        }
      ],
      "source": [
        "import pandas as pd\n",
        "from sklearn.model_selection import train_test_split\n",
        "from sklearn.feature_extraction.text import CountVectorizer, TfidfVectorizer\n",
        "from sklearn.preprocessing import LabelEncoder\n",
        "from sklearn.linear_model import LogisticRegression\n",
        "from sklearn.naive_bayes import MultinomialNB\n",
        "from sklearn.svm import SVC\n",
        "from sklearn.ensemble import RandomForestClassifier\n",
        "from sklearn.neighbors import KNeighborsClassifier\n",
        "from sklearn.metrics import accuracy_score, f1_score, roc_auc_score, classification_report\n",
        "from nltk.corpus import stopwords\n",
        "from nltk.stem import WordNetLemmatizer\n",
        "import string\n",
        "import nltk\n",
        "\n",
        "nltk.download('stopwords')\n",
        "nltk.download('wordnet')\n",
        "\n",
        "# Загрузка данных\n",
        "df = pd.read_csv('https://drive.google.com/uc?export=download&id=19X0ZP-Ff-2TAhag_HdzJYbM_oC_eqp2t', encoding='latin-1', usecols=[0, 1], names=['label', 'message'], skiprows=1)\n",
        "df['label'] = df['label'].map({'ham': 0, 'spam': 1})\n",
        "\n",
        "# Предобработка текста\n",
        "lemmatizer = WordNetLemmatizer()\n",
        "stop_words = set(stopwords.words('english'))\n",
        "\n",
        "def preprocess_text(text):\n",
        "    text = text.lower()\n",
        "    text = ''.join([char for char in text if char not in string.punctuation])  # Удаление пунктуации\n",
        "    words = text.split()\n",
        "    words = [lemmatizer.lemmatize(word) for word in words if word not in stop_words]  # Лемматизация и удаление стоп-слов\n",
        "    return ' '.join(words)\n",
        "\n",
        "df['processed_message'] = df['message'].apply(preprocess_text)\n",
        "\n",
        "# Векторизация текста (используем Bag of Words и TF-IDF по очереди)\n",
        "X_train, X_test, y_train, y_test = train_test_split(df['processed_message'], df['label'], test_size=0.2, random_state=42)\n",
        "\n",
        "# Bag of Words\n",
        "vectorizer_bow = CountVectorizer()\n",
        "X_train_bow = vectorizer_bow.fit_transform(X_train)\n",
        "X_test_bow = vectorizer_bow.transform(X_test)\n",
        "\n",
        "# TF-IDF\n",
        "vectorizer_tfidf = TfidfVectorizer()\n",
        "X_train_tfidf = vectorizer_tfidf.fit_transform(X_train)\n",
        "X_test_tfidf = vectorizer_tfidf.transform(X_test)\n",
        "\n",
        "# Оценка модели\n",
        "model = LogisticRegression()\n",
        "def evaluate_model(model, X_train, X_test, y_train, y_test):\n",
        "    model.fit(X_train, y_train)\n",
        "    y_pred = model.predict(X_test)\n",
        "    print(f\"Accuracy: {accuracy_score(y_test, y_pred)}\")\n",
        "    print(f\"F1-score: {f1_score(y_test, y_pred)}\")\n",
        "    print(f\"ROC-AUC: {roc_auc_score(y_test, y_pred)}\")\n",
        "    print(classification_report(y_test, y_pred))\n",
        "\n",
        "print(\"\\nРезультаты с Bag of Words:\")\n",
        "evaluate_model(model, X_train_bow, X_test_bow, y_train, y_test)\n",
        "\n",
        "print(\"\\nРезультаты с TF-IDF:\")\n",
        "evaluate_model(model, X_train_tfidf, X_test_tfidf, y_train, y_test)\n"
      ]
    },
    {
      "cell_type": "markdown",
      "source": [
        "\n",
        "Bag of Words показал лучшую эффективность в классификации сообщений, достигнув 97.85% точности и 91.30% F1-score, в то время как TF-IDF показал 95.07% и 78.26% соответственно. Это связано с тем, что Bag of Words лучше сохраняет информацию о частоте ключевых слов, что критично для задач классификации, особенно в коротких текстах."
      ],
      "metadata": {
        "id": "MXaGdlXjnZYX"
      }
    }
  ]
}